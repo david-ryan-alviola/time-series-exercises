{
 "cells": [
  {
   "cell_type": "code",
   "execution_count": 1,
   "id": "imposed-explanation",
   "metadata": {},
   "outputs": [],
   "source": [
    "import env\n",
    "import pandas as pd\n",
    "import requests as req\n",
    "import acquire\n",
    "import matplotlib.pyplot as plt\n",
    "import seaborn as sns\n",
    "import prepare\n",
    "\n",
    "from io import StringIO"
   ]
  },
  {
   "cell_type": "markdown",
   "id": "square-reasoning",
   "metadata": {},
   "source": [
    "# Acquisition Exercises\n",
    "\n",
    "1. Using the code from the lesson as a guide and the REST API from https://python.zach.lol/api/v1/items as we did in the lesson, create a dataframe named items that has all of the data for items."
   ]
  },
  {
   "cell_type": "code",
   "execution_count": null,
   "id": "cardiac-bunch",
   "metadata": {},
   "outputs": [],
   "source": [
    "endpoint = \"https://python.zach.lol/api/v1/items\""
   ]
  },
  {
   "cell_type": "code",
   "execution_count": null,
   "id": "premium-tumor",
   "metadata": {},
   "outputs": [],
   "source": [
    "response = req.get(endpoint)"
   ]
  },
  {
   "cell_type": "code",
   "execution_count": null,
   "id": "fitted-revelation",
   "metadata": {},
   "outputs": [],
   "source": [
    "response = response.json()"
   ]
  },
  {
   "cell_type": "code",
   "execution_count": null,
   "id": "funny-laptop",
   "metadata": {},
   "outputs": [],
   "source": [
    "payload = response['payload']\n",
    "payload"
   ]
  },
  {
   "cell_type": "code",
   "execution_count": null,
   "id": "simple-glory",
   "metadata": {},
   "outputs": [],
   "source": [
    "n = payload['max_page']"
   ]
  },
  {
   "cell_type": "code",
   "execution_count": null,
   "id": "architectural-little",
   "metadata": {},
   "outputs": [],
   "source": [
    "item_list = []\n",
    "url = \"https://python.zach.lol/api/v1/items\"\n",
    "\n",
    "for i in range(1, n+1):\n",
    "    new_url = url + \"?page=\" + str(i)\n",
    "    response = req.get(new_url)\n",
    "    data = response.json()\n",
    "    page_items = data['payload']['items']\n",
    "    item_list += page_items\n",
    "    \n",
    "item_list"
   ]
  },
  {
   "cell_type": "code",
   "execution_count": null,
   "id": "stunning-yellow",
   "metadata": {},
   "outputs": [],
   "source": [
    "items_df = pd.DataFrame(item_list)"
   ]
  },
  {
   "cell_type": "code",
   "execution_count": null,
   "id": "documented-ground",
   "metadata": {},
   "outputs": [],
   "source": [
    "items_df"
   ]
  },
  {
   "cell_type": "code",
   "execution_count": null,
   "id": "treated-extent",
   "metadata": {},
   "outputs": [],
   "source": [
    "def create_df_from_payloads(endpoint, max_pages, target_key_name):\n",
    "    page_list = []\n",
    "    \n",
    "    for i in range(1, max_pages + 1):\n",
    "        response = req.get(endpoint + \"?page=\" + str(i))\n",
    "        data = response.json()\n",
    "        page_items = data['payload'][target_key_name]\n",
    "        page_list += page_items\n",
    "        \n",
    "    return pd.DataFrame(page_list)"
   ]
  },
  {
   "cell_type": "code",
   "execution_count": null,
   "id": "banned-halloween",
   "metadata": {},
   "outputs": [],
   "source": [
    "test_df = create_df_from_payloads(\"https://python.zach.lol/api/v1/items\", 3, 'items')\n",
    "test_df.shape"
   ]
  },
  {
   "cell_type": "markdown",
   "id": "confirmed-anderson",
   "metadata": {},
   "source": [
    "2. Do the same thing, but for stores (https://python.zach.lol/api/v1/stores)"
   ]
  },
  {
   "cell_type": "code",
   "execution_count": null,
   "id": "emotional-standard",
   "metadata": {},
   "outputs": [],
   "source": [
    "response = req.get(\"https://python.zach.lol/api/v1/stores\")\n",
    "response = response.json()"
   ]
  },
  {
   "cell_type": "code",
   "execution_count": null,
   "id": "organized-sense",
   "metadata": {},
   "outputs": [],
   "source": [
    "stores_df = create_df_from_payloads(\"https://python.zach.lol/api/v1/stores\", 1, 'stores')"
   ]
  },
  {
   "cell_type": "code",
   "execution_count": null,
   "id": "specialized-entrepreneur",
   "metadata": {},
   "outputs": [],
   "source": [
    "stores_df"
   ]
  },
  {
   "cell_type": "markdown",
   "id": "planned-helicopter",
   "metadata": {},
   "source": [
    "3. Extract the data for sales (https://python.zach.lol/api/v1/sales). There are a lot of pages of data here, so your code will need to be a little more complex. Your code should continue fetching data from the next page until all of the data is extracted."
   ]
  },
  {
   "cell_type": "code",
   "execution_count": null,
   "id": "private-opening",
   "metadata": {},
   "outputs": [],
   "source": [
    "response columnsget(\"https://python.zach.lol/api/v1/sales\")\n",
    "response = response.json()\n",
    "\n",
    "max_pages = response['payload']['max_page']"
   ]
  },
  {
   "cell_type": "code",
   "execution_count": null,
   "id": "transparent-welcome",
   "metadata": {},
   "outputs": [],
   "source": [
    "sales_df = create_df_from_payloads(\"https://python.zach.lol/api/v1/sales\", max_pages, 'sales')\n",
    "sales_df"
   ]
  },
  {
   "cell_type": "markdown",
   "id": "pregnant-walker",
   "metadata": {},
   "source": [
    "4. Save the data in your files to local csv files so that it will be faster to access in the future."
   ]
  },
  {
   "cell_type": "code",
   "execution_count": null,
   "id": "mobile-satellite",
   "metadata": {},
   "outputs": [],
   "source": [
    "sales_df.to_csv(\"sales.csv\", index=False)\n",
    "stores_df.to_csv(\"stores.csv\", index=False)\n",
    "items_df.to_csv(\"items.csv\", index=False)"
   ]
  },
  {
   "cell_type": "markdown",
   "id": "institutional-clinton",
   "metadata": {},
   "source": [
    "5. Combine the data from your three separate dataframes into one large dataframe."
   ]
  },
  {
   "cell_type": "code",
   "execution_count": null,
   "id": "patent-chosen",
   "metadata": {},
   "outputs": [],
   "source": [
    "items_df.columns"
   ]
  },
  {
   "cell_type": "code",
   "execution_count": null,
   "id": "fourth-paint",
   "metadata": {},
   "outputs": [],
   "source": [
    "stores_df.columns"
   ]
  },
  {
   "cell_type": "code",
   "execution_count": null,
   "id": "extensive-picnic",
   "metadata": {},
   "outputs": [],
   "source": [
    "sales_df.columns"
   ]
  },
  {
   "cell_type": "code",
   "execution_count": null,
   "id": "bizarre-archive",
   "metadata": {},
   "outputs": [],
   "source": [
    "sales_df.rename(columns={'item' : 'item_id'}, inplace=True)\n",
    "merged_df = pd.merge(items_df, sales_df, how=\"left\", on=\"item_id\")\n",
    "\n",
    "merged_df.rename(columns={'store' : 'store_id'}, inplace=True)\n",
    "merged_df = pd.merge(merged_df, stores_df, how=\"left\", on=\"store_id\")\n",
    "\n",
    "merged_df.columns"
   ]
  },
  {
   "cell_type": "markdown",
   "id": "known-floor",
   "metadata": {},
   "source": [
    "6. Acquire the Open Power Systems Data for Germany, which has been rapidly expanding its renewable energy production in recent years. The data set includes country-wide totals of electricity consumption, wind power production, and solar power production for 2006-2017. You can get the data here: https://raw.githubusercontent.com/jenfly/opsd/master/opsd_germany_daily.csv"
   ]
  },
  {
   "cell_type": "code",
   "execution_count": null,
   "id": "configured-dairy",
   "metadata": {},
   "outputs": [],
   "source": [
    "response = req.get(\"https://raw.githubusercontent.com/jenfly/opsd/master/opsd_germany_daily.csv\")\n",
    "\n",
    "csv = StringIO(response.text)\n",
    "\n",
    "germany_df = pd.read_csv(csv)"
   ]
  },
  {
   "cell_type": "code",
   "execution_count": null,
   "id": "correct-cincinnati",
   "metadata": {},
   "outputs": [],
   "source": [
    "germany_df"
   ]
  },
  {
   "cell_type": "code",
   "execution_count": null,
   "id": "instrumental-drove",
   "metadata": {},
   "outputs": [],
   "source": [
    "items_df = acquire.acquire_df_from_zach_api(\"https://python.zach.lol/api/v1/items\", 'items')\n",
    "items_df.shape"
   ]
  },
  {
   "cell_type": "code",
   "execution_count": null,
   "id": "sensitive-integrity",
   "metadata": {},
   "outputs": [],
   "source": [
    "stores_df = acquire.acquire_df_from_zach_api(\"https://python.zach.lol/api/v1/stores\", 'stores')\n",
    "stores_df.shape"
   ]
  },
  {
   "cell_type": "code",
   "execution_count": null,
   "id": "returning-klein",
   "metadata": {},
   "outputs": [],
   "source": [
    "sales_df = pd.read_csv(\"sales.csv\")\n",
    "sales_df.shape"
   ]
  },
  {
   "cell_type": "code",
   "execution_count": null,
   "id": "tamil-crystal",
   "metadata": {},
   "outputs": [],
   "source": [
    "final_df = acquire.merge_zach_dataframes(items_df, stores_df, sales_df)\n",
    "final_df.shape"
   ]
  },
  {
   "cell_type": "code",
   "execution_count": null,
   "id": "directed-internship",
   "metadata": {},
   "outputs": [],
   "source": [
    "germany_df = acquire.acquire_germany()\n",
    "germany_df.shape"
   ]
  },
  {
   "cell_type": "markdown",
   "id": "israeli-wesley",
   "metadata": {},
   "source": [
    "# Working with time series data exercises"
   ]
  },
  {
   "cell_type": "markdown",
   "id": "young-laptop",
   "metadata": {},
   "source": [
    "* Use the above dataset for the exercises below:"
   ]
  },
  {
   "cell_type": "code",
   "execution_count": null,
   "id": "spiritual-youth",
   "metadata": {},
   "outputs": [],
   "source": [
    "from vega_datasets import data\n",
    "data.sf_temps()"
   ]
  },
  {
   "cell_type": "markdown",
   "id": "attached-stylus",
   "metadata": {},
   "source": [
    "1. Resample by the day and take the average temperature. Visualize the average temperature over time."
   ]
  },
  {
   "cell_type": "code",
   "execution_count": null,
   "id": "pressing-villa",
   "metadata": {},
   "outputs": [],
   "source": [
    "temps_df = data.sf_temps()\n",
    "temps_df['date'] = pd.to_datetime(temps_df['date'])\n",
    "temps_df.dtypes"
   ]
  },
  {
   "cell_type": "code",
   "execution_count": null,
   "id": "congressional-rating",
   "metadata": {},
   "outputs": [],
   "source": [
    "temps_df = temps_df.set_index('date').sort_index()"
   ]
  },
  {
   "cell_type": "code",
   "execution_count": null,
   "id": "banner-division",
   "metadata": {},
   "outputs": [],
   "source": [
    "daily_mean_temps_df = temps_df.resample('D').mean()"
   ]
  },
  {
   "cell_type": "code",
   "execution_count": null,
   "id": "southeast-banana",
   "metadata": {},
   "outputs": [],
   "source": [
    "sns.scatterplot(x=daily_mean_temps_df.index, y=daily_mean_temps_df.temp)\n",
    "plt.show()"
   ]
  },
  {
   "cell_type": "markdown",
   "id": "rental-remains",
   "metadata": {},
   "source": [
    "2. Write the code necessary to visualize the minimum temperature over time."
   ]
  },
  {
   "cell_type": "code",
   "execution_count": null,
   "id": "functional-diameter",
   "metadata": {},
   "outputs": [],
   "source": [
    "daily_max_temps = temps_df.resample('D').max()\n",
    "\n",
    "sns.scatterplot(x=daily_max_temps.index, y=daily_max_temps.temp)\n",
    "plt.show()"
   ]
  },
  {
   "cell_type": "markdown",
   "id": "israeli-feedback",
   "metadata": {},
   "source": [
    "3. Write the code necessary to visualize the maximum tempberature over time."
   ]
  },
  {
   "cell_type": "code",
   "execution_count": null,
   "id": "early-italian",
   "metadata": {},
   "outputs": [],
   "source": [
    "daily_min_temps = temps_df.resample('D').min()\n",
    "\n",
    "sns.scatterplot(x=daily_min_temps.index, y=daily_min_temps.temp)\n",
    "plt.show()"
   ]
  },
  {
   "cell_type": "markdown",
   "id": "waiting-broad",
   "metadata": {},
   "source": [
    "4. Which month is the coldest, on average?"
   ]
  },
  {
   "cell_type": "code",
   "execution_count": null,
   "id": "subsequent-candy",
   "metadata": {},
   "outputs": [],
   "source": [
    "monthly_temps = temps_df.resample('M').mean()\n",
    "monthly_temps.nsmallest(1, 'temp')"
   ]
  },
  {
   "cell_type": "markdown",
   "id": "inside-overhead",
   "metadata": {},
   "source": [
    "5. Which month has the highest average temperature?"
   ]
  },
  {
   "cell_type": "code",
   "execution_count": null,
   "id": "devoted-fighter",
   "metadata": {},
   "outputs": [],
   "source": [
    "monthly_temps.nlargest(1, 'temp')"
   ]
  },
  {
   "cell_type": "markdown",
   "id": "assigned-german",
   "metadata": {},
   "source": [
    "6. Resample by the day and calculate the min and max temp for the day (Hint: .agg(['min', 'max'])). Use this resampled dataframe to calculate the change in temperature for the day. Which month has the highest daily temperature variability?"
   ]
  },
  {
   "cell_type": "code",
   "execution_count": null,
   "id": "alternate-channel",
   "metadata": {},
   "outputs": [],
   "source": [
    "daily_temps = temps_df.resample('D').agg(['min', 'max'])"
   ]
  },
  {
   "cell_type": "code",
   "execution_count": null,
   "id": "sacred-messenger",
   "metadata": {},
   "outputs": [],
   "source": [
    "daily_temps = daily_temps.droplevel(0, axis=1)"
   ]
  },
  {
   "cell_type": "code",
   "execution_count": null,
   "id": "spanish-corporation",
   "metadata": {},
   "outputs": [],
   "source": [
    "daily_temps['temp_change'] = daily_temps['max'] - daily_temps['min']"
   ]
  },
  {
   "cell_type": "code",
   "execution_count": null,
   "id": "medical-accident",
   "metadata": {},
   "outputs": [],
   "source": [
    "daily_temps.nlargest(1, 'temp_change')"
   ]
  },
  {
   "cell_type": "code",
   "execution_count": null,
   "id": "pretty-robinson",
   "metadata": {},
   "outputs": [],
   "source": [
    "monthly_variability = daily_temps.temp_change.resample('M').max()\n",
    "monthly_variability.nlargest(1)"
   ]
  },
  {
   "cell_type": "markdown",
   "id": "allied-waste",
   "metadata": {},
   "source": [
    "7. Bonus: Visualize the daily min, average, and max temperature over time on a single line plot, i.e. the min, average, and maximum temperature should be 3 seperate lines."
   ]
  },
  {
   "cell_type": "code",
   "execution_count": null,
   "id": "fitting-baptist",
   "metadata": {},
   "outputs": [],
   "source": [
    "daily_temps = temps_df.resample('D').agg(['min', 'mean', 'max'])\n",
    "daily_temps"
   ]
  },
  {
   "cell_type": "code",
   "execution_count": null,
   "id": "virtual-equilibrium",
   "metadata": {},
   "outputs": [],
   "source": [
    "daily_temps = daily_temps.droplevel(0, axis=1)"
   ]
  },
  {
   "cell_type": "code",
   "execution_count": null,
   "id": "handed-violin",
   "metadata": {},
   "outputs": [],
   "source": [
    "daily_temps.sample(14)"
   ]
  },
  {
   "cell_type": "code",
   "execution_count": null,
   "id": "ultimate-vatican",
   "metadata": {},
   "outputs": [],
   "source": [
    "plt.plot(daily_temps.index, daily_temps['min'], label=\"min_temp\")\n",
    "plt.plot(daily_temps.index, daily_temps['mean'], label=\"average_temp\")\n",
    "plt.plot(daily_temps.index, daily_temps['max'], label=\"max_temp\")\n",
    "plt.legend()\n",
    "plt.show()"
   ]
  },
  {
   "cell_type": "code",
   "execution_count": null,
   "id": "earlier-review",
   "metadata": {},
   "outputs": [],
   "source": [
    "from vega_datasets import data\n",
    "weather_df = data.seattle_weather()"
   ]
  },
  {
   "cell_type": "markdown",
   "id": "smaller-romantic",
   "metadata": {},
   "source": [
    "* Use the dataset to answer the following questions:\n",
    "\n",
    "1. Which year and month combination has the highest amount of precipitation?"
   ]
  },
  {
   "cell_type": "code",
   "execution_count": null,
   "id": "settled-envelope",
   "metadata": {},
   "outputs": [],
   "source": [
    "weather_df['date'] = pd.to_datetime(weather_df['date'])\n",
    "weather_df = weather_df.set_index('date').sort_index()"
   ]
  },
  {
   "cell_type": "code",
   "execution_count": null,
   "id": "focal-frame",
   "metadata": {},
   "outputs": [],
   "source": [
    "monthly_weather = weather_df.resample('M').max()\n",
    "monthly_weather.nlargest(1, 'precipitation')"
   ]
  },
  {
   "cell_type": "markdown",
   "id": "sudden-sharp",
   "metadata": {},
   "source": [
    "2. Visualize the amount of monthly precipitation over time."
   ]
  },
  {
   "cell_type": "code",
   "execution_count": null,
   "id": "taken-psychology",
   "metadata": {},
   "outputs": [],
   "source": [
    "plt.figure(figsize=(14,10))\n",
    "sns.lineplot(x=monthly_weather.index, y=monthly_weather.precipitation)\n",
    "plt.show()"
   ]
  },
  {
   "cell_type": "markdown",
   "id": "adjustable-psychology",
   "metadata": {},
   "source": [
    "3. Visualize the amount of wind over time. Choose a time interval you think is appropriate."
   ]
  },
  {
   "cell_type": "code",
   "execution_count": null,
   "id": "threaded-hepatitis",
   "metadata": {},
   "outputs": [],
   "source": [
    "quarterly_weather = weather_df.resample('Q').mean()\n",
    "\n",
    "plt.figure(figsize=(14, 10))\n",
    "sns.lineplot(x=quarterly_weather.index, y=quarterly_weather.wind)"
   ]
  },
  {
   "cell_type": "markdown",
   "id": "solid-plain",
   "metadata": {},
   "source": [
    "4. Which year-month combination is the windiest?"
   ]
  },
  {
   "cell_type": "code",
   "execution_count": null,
   "id": "ambient-vietnamese",
   "metadata": {},
   "outputs": [],
   "source": [
    "monthly_weather.nlargest(1, 'wind')"
   ]
  },
  {
   "cell_type": "markdown",
   "id": "instant-middle",
   "metadata": {},
   "source": [
    "5. What's the sunniest year? (Hint: which day has the highest number of days where weather == sun?)"
   ]
  },
  {
   "cell_type": "code",
   "execution_count": null,
   "id": "hazardous-parent",
   "metadata": {},
   "outputs": [],
   "source": [
    "weather_df['is_sunny'] = weather_df.weather.apply(lambda weather : 1 if weather == \"sun\" else 0)"
   ]
  },
  {
   "cell_type": "code",
   "execution_count": null,
   "id": "essential-photograph",
   "metadata": {},
   "outputs": [],
   "source": [
    "yearly_weather = weather_df.resample('A').sum()\n",
    "yearly_weather.nlargest(1, 'is_sunny')                                              "
   ]
  },
  {
   "cell_type": "markdown",
   "id": "tropical-standard",
   "metadata": {},
   "source": [
    "6. In which month does it rain the most?"
   ]
  },
  {
   "cell_type": "code",
   "execution_count": null,
   "id": "caroline-brand",
   "metadata": {},
   "outputs": [],
   "source": [
    "monthly_mean_weather = weather_df.resample('M').mean()\n",
    "monthly_mean_weather.nlargest(1, 'precipitation')"
   ]
  },
  {
   "cell_type": "code",
   "execution_count": null,
   "id": "meaningful-stick",
   "metadata": {},
   "outputs": [],
   "source": [
    "monthly_mean_weather"
   ]
  },
  {
   "cell_type": "code",
   "execution_count": null,
   "id": "passing-standard",
   "metadata": {},
   "outputs": [],
   "source": [
    "year_2012 = monthly_mean_weather.iloc[0: 12]\n",
    "year_2012.shape"
   ]
  },
  {
   "cell_type": "code",
   "execution_count": null,
   "id": "amended-combination",
   "metadata": {},
   "outputs": [],
   "source": [
    "year_2013 = monthly_mean_weather.iloc[12: 24]\n",
    "year_2013.shape"
   ]
  },
  {
   "cell_type": "code",
   "execution_count": null,
   "id": "artificial-lecture",
   "metadata": {},
   "outputs": [],
   "source": [
    "year_2014 = monthly_mean_weather.iloc[24: 36]\n",
    "year_2014.shape"
   ]
  },
  {
   "cell_type": "code",
   "execution_count": null,
   "id": "antique-young",
   "metadata": {},
   "outputs": [],
   "source": [
    "year_2015 = monthly_mean_weather.iloc[36: 48]\n",
    "year_2015.shape"
   ]
  },
  {
   "cell_type": "code",
   "execution_count": null,
   "id": "extensive-maintenance",
   "metadata": {},
   "outputs": [],
   "source": [
    "print(year_2012.precipitation.nlargest(1))\n",
    "print(year_2013.precipitation.nlargest(1))\n",
    "print(year_2014.precipitation.nlargest(1))\n",
    "print(year_2015.precipitation.nlargest(1))"
   ]
  },
  {
   "cell_type": "markdown",
   "id": "illegal-parts",
   "metadata": {},
   "source": [
    "7. Which month has the most number of days with a non-zero amount of precipitation?"
   ]
  },
  {
   "cell_type": "code",
   "execution_count": null,
   "id": "nominated-concept",
   "metadata": {},
   "outputs": [],
   "source": [
    "weather_df['had_rain'] = weather_df.precipitation.apply(lambda rain : 1 if rain > 0 else 0)\n",
    "weather_df"
   ]
  },
  {
   "cell_type": "code",
   "execution_count": null,
   "id": "stuck-railway",
   "metadata": {},
   "outputs": [],
   "source": [
    "monthly_rain = weather_df.resample('M').sum()\n",
    "monthly_rain.had_rain.nlargest(1)"
   ]
  },
  {
   "cell_type": "markdown",
   "id": "composite-classics",
   "metadata": {},
   "source": [
    "1. Convert any negative delays to 0."
   ]
  },
  {
   "cell_type": "code",
   "execution_count": null,
   "id": "reserved-treaty",
   "metadata": {},
   "outputs": [],
   "source": [
    "flights_df = data.flights_20k()"
   ]
  },
  {
   "cell_type": "code",
   "execution_count": null,
   "id": "viral-cancellation",
   "metadata": {},
   "outputs": [],
   "source": [
    "flights_df.delay = flights_df.delay.apply(lambda delay : 0 if delay < 0 else delay)\n",
    "flights_df[flights_df.delay < 0]"
   ]
  },
  {
   "cell_type": "markdown",
   "id": "chicken-interval",
   "metadata": {},
   "source": [
    "2. Which hour of the day has the highest average delay?"
   ]
  },
  {
   "cell_type": "code",
   "execution_count": null,
   "id": "adaptive-blond",
   "metadata": {},
   "outputs": [],
   "source": [
    "flights_df = flights_df.set_index('date').sort_index()"
   ]
  },
  {
   "cell_type": "code",
   "execution_count": null,
   "id": "saved-expression",
   "metadata": {},
   "outputs": [],
   "source": [
    "flights_df['hour_of_day'] = flights_df.index.hour\n",
    "flights_df[flights_df.hour_of_day == 3]"
   ]
  },
  {
   "cell_type": "code",
   "execution_count": null,
   "id": "affected-acquisition",
   "metadata": {},
   "outputs": [],
   "source": [
    "flights_df.groupby('hour_of_day').delay.mean().nlargest(1)"
   ]
  },
  {
   "cell_type": "markdown",
   "id": "level-yield",
   "metadata": {},
   "source": [
    "3. Does the day of the week make a difference in the delay amount?"
   ]
  },
  {
   "cell_type": "code",
   "execution_count": null,
   "id": "ahead-dryer",
   "metadata": {},
   "outputs": [],
   "source": [
    "flights_df['day_of_week'] = flights_df.index.day_name()\n",
    "flights_df.sample(5)"
   ]
  },
  {
   "cell_type": "code",
   "execution_count": null,
   "id": "thirty-needle",
   "metadata": {},
   "outputs": [],
   "source": [
    "flights_df.groupby('day_of_week').delay.mean()"
   ]
  },
  {
   "cell_type": "markdown",
   "id": "western-prague",
   "metadata": {},
   "source": [
    "4. Does the month make a difference in the delay amount?"
   ]
  },
  {
   "cell_type": "code",
   "execution_count": null,
   "id": "leading-typing",
   "metadata": {},
   "outputs": [],
   "source": [
    "flights_df['month'] = flights_df.index.month_name()\n",
    "flights_df.groupby('month').delay.mean()"
   ]
  },
  {
   "cell_type": "code",
   "execution_count": null,
   "id": "demanding-steering",
   "metadata": {},
   "outputs": [],
   "source": [
    "hourly_flights_df = flights_df.resample('H').mean()\n",
    "hourly_flights_df = hourly_flights_df.dropna()"
   ]
  },
  {
   "cell_type": "code",
   "execution_count": null,
   "id": "upset-disco",
   "metadata": {},
   "outputs": [],
   "source": [
    "hourly_flights_df['hour_of_day'] = hourly_flights_df.index.hour\n",
    "hourly_flights_df.groupby('hour_of_day').delay.mean()"
   ]
  },
  {
   "cell_type": "markdown",
   "id": "continued-intellectual",
   "metadata": {},
   "source": [
    "# Prepare Exercises"
   ]
  },
  {
   "cell_type": "code",
   "execution_count": 2,
   "id": "painted-sheriff",
   "metadata": {},
   "outputs": [
    {
     "data": {
      "text/plain": [
       "Index(['item_brand', 'item_id', 'item_name', 'item_price', 'item_upc12',\n",
       "       'item_upc14', 'sale_amount', 'sale_date', 'sale_id', 'store_id',\n",
       "       'store_address', 'store_city', 'store_state', 'store_zipcode'],\n",
       "      dtype='object')"
      ]
     },
     "execution_count": 2,
     "metadata": {},
     "output_type": "execute_result"
    }
   ],
   "source": [
    "items_df = pd.read_csv(\"items.csv\")\n",
    "stores_df = pd.read_csv(\"stores.csv\")\n",
    "sales_df = pd.read_csv(\"sales.csv\")\n",
    "\n",
    "zach_df = acquire.merge_zach_dataframes(items_df, stores_df, sales_df)\n",
    "zach_df.columns"
   ]
  },
  {
   "cell_type": "markdown",
   "id": "relative-comedy",
   "metadata": {},
   "source": [
    "1. Convert date column to datetime format."
   ]
  },
  {
   "cell_type": "markdown",
   "id": "behind-council",
   "metadata": {},
   "source": [
    "3. Set the index to be the datetime variable."
   ]
  },
  {
   "cell_type": "code",
   "execution_count": null,
   "id": "standing-permission",
   "metadata": {},
   "outputs": [],
   "source": [
    "zach_df.sale_date = pd.to_datetime(zach_df.sale_date)\n",
    "zach_df = zach_df.set_index('sale_date').sort_index()"
   ]
  },
  {
   "cell_type": "code",
   "execution_count": null,
   "id": "described-strike",
   "metadata": {},
   "outputs": [],
   "source": [
    "zach_df.index = zach_df.index.tz_localize(None)"
   ]
  },
  {
   "cell_type": "markdown",
   "id": "first-style",
   "metadata": {},
   "source": [
    "2. Plot the distribution of sale_amount and item_price."
   ]
  },
  {
   "cell_type": "code",
   "execution_count": 5,
   "id": "romantic-genius",
   "metadata": {},
   "outputs": [
    {
     "data": {
      "image/png": "[encoded data removed]",
      "text/plain": [
       "<Figure size 432x288 with 1 Axes>"
      ]
     },
     "metadata": {
      "needs_background": "light"
     },
     "output_type": "display_data"
    },
    {
     "data": {
      "image/png": "[encoded data removed]",
      "text/plain": [
       "<Figure size 432x288 with 1 Axes>"
      ]
     },
     "metadata": {
      "needs_background": "light"
     },
     "output_type": "display_data"
    }
   ],
   "source": [
    "sns.histplot(zach_df.sale_amount)\n",
    "plt.title(\"Sale Amount Distribution\")\n",
    "plt.show()\n",
    "\n",
    "sns.histplot(zach_df.item_price)\n",
    "plt.title(\"Item Price Distribution\")\n",
    "plt.show()"
   ]
  },
  {
   "cell_type": "markdown",
   "id": "graphic-terrace",
   "metadata": {},
   "source": [
    "4. Add a 'month' and 'day of week' column to your dataframe."
   ]
  },
  {
   "cell_type": "code",
   "execution_count": null,
   "id": "tutorial-honey",
   "metadata": {},
   "outputs": [],
   "source": [
    "zach_df['month'] = zach_df.index.month_name()\n",
    "zach_df['day_of_week'] = zach_df.index.day_name()\n",
    "zach_df.sample(5)"
   ]
  },
  {
   "cell_type": "markdown",
   "id": "creative-supplement",
   "metadata": {},
   "source": [
    "5. Add a column to your dataframe, sales_total, which is a derived from sale_amount (total items) and item_price."
   ]
  },
  {
   "cell_type": "code",
   "execution_count": null,
   "id": "united-dictionary",
   "metadata": {},
   "outputs": [],
   "source": [
    "zach_df['sales_total'] = zach_df.sale_amount * zach_df.item_price\n",
    "zach_df.sample(5)"
   ]
  },
  {
   "cell_type": "markdown",
   "id": "internal-maker",
   "metadata": {},
   "source": [
    "6. Make sure all the work that you have done above is reproducible. That is, you should put the code above into separate functions and be able to re-run the functions and get the same results."
   ]
  },
  {
   "cell_type": "code",
   "execution_count": 3,
   "id": "alien-nature",
   "metadata": {},
   "outputs": [
    {
     "data": {
      "text/html": [
       "<div>\n",
       "<style scoped>\n",
       "    .dataframe tbody tr th:only-of-type {\n",
       "        vertical-align: middle;\n",
       "    }\n",
       "\n",
       "    .dataframe tbody tr th {\n",
       "        vertical-align: top;\n",
       "    }\n",
       "\n",
       "    .dataframe thead th {\n",
       "        text-align: right;\n",
       "    }\n",
       "</style>\n",
       "<table border=\"1\" class=\"dataframe\">\n",
       "  <thead>\n",
       "    <tr style=\"text-align: right;\">\n",
       "      <th></th>\n",
       "      <th>item_brand</th>\n",
       "      <th>item_id</th>\n",
       "      <th>item_name</th>\n",
       "      <th>item_price</th>\n",
       "      <th>item_upc12</th>\n",
       "      <th>item_upc14</th>\n",
       "      <th>sale_amount</th>\n",
       "      <th>sale_id</th>\n",
       "      <th>store_id</th>\n",
       "      <th>store_address</th>\n",
       "      <th>store_city</th>\n",
       "      <th>store_state</th>\n",
       "      <th>store_zipcode</th>\n",
       "      <th>month</th>\n",
       "      <th>day_of_week</th>\n",
       "      <th>sales_total</th>\n",
       "    </tr>\n",
       "    <tr>\n",
       "      <th>sale_date</th>\n",
       "      <th></th>\n",
       "      <th></th>\n",
       "      <th></th>\n",
       "      <th></th>\n",
       "      <th></th>\n",
       "      <th></th>\n",
       "      <th></th>\n",
       "      <th></th>\n",
       "      <th></th>\n",
       "      <th></th>\n",
       "      <th></th>\n",
       "      <th></th>\n",
       "      <th></th>\n",
       "      <th></th>\n",
       "      <th></th>\n",
       "      <th></th>\n",
       "    </tr>\n",
       "  </thead>\n",
       "  <tbody>\n",
       "    <tr>\n",
       "      <th>2017-10-05</th>\n",
       "      <td>Sundown Naturals</td>\n",
       "      <td>38</td>\n",
       "      <td>Sundown Naturals Essential Electrolytes Tropic...</td>\n",
       "      <td>3.45</td>\n",
       "      <td>30768540548</td>\n",
       "      <td>30768540548</td>\n",
       "      <td>84.0</td>\n",
       "      <td>677359</td>\n",
       "      <td>1</td>\n",
       "      <td>12125 Alamo Ranch Pkwy</td>\n",
       "      <td>San Antonio</td>\n",
       "      <td>TX</td>\n",
       "      <td>78253</td>\n",
       "      <td>10</td>\n",
       "      <td>3</td>\n",
       "      <td>289.80</td>\n",
       "    </tr>\n",
       "    <tr>\n",
       "      <th>2017-04-30</th>\n",
       "      <td>Honest Tea</td>\n",
       "      <td>11</td>\n",
       "      <td>Honest Tea Peach White Tea</td>\n",
       "      <td>3.93</td>\n",
       "      <td>657622604842</td>\n",
       "      <td>657622604842</td>\n",
       "      <td>86.0</td>\n",
       "      <td>191485</td>\n",
       "      <td>5</td>\n",
       "      <td>1520 Austin Hwy</td>\n",
       "      <td>San Antonio</td>\n",
       "      <td>TX</td>\n",
       "      <td>78218</td>\n",
       "      <td>4</td>\n",
       "      <td>6</td>\n",
       "      <td>337.98</td>\n",
       "    </tr>\n",
       "    <tr>\n",
       "      <th>2014-02-27</th>\n",
       "      <td>Munchies</td>\n",
       "      <td>39</td>\n",
       "      <td>Munchies Sandwich Crackers Cheddar Cheese On G...</td>\n",
       "      <td>9.02</td>\n",
       "      <td>28400029254</td>\n",
       "      <td>28400029254</td>\n",
       "      <td>36.0</td>\n",
       "      <td>710737</td>\n",
       "      <td>10</td>\n",
       "      <td>8503 NW Military Hwy</td>\n",
       "      <td>San Antonio</td>\n",
       "      <td>TX</td>\n",
       "      <td>78231</td>\n",
       "      <td>2</td>\n",
       "      <td>3</td>\n",
       "      <td>324.72</td>\n",
       "    </tr>\n",
       "    <tr>\n",
       "      <th>2017-01-01</th>\n",
       "      <td>Mama Marys</td>\n",
       "      <td>46</td>\n",
       "      <td>Pizza Sauce</td>\n",
       "      <td>4.65</td>\n",
       "      <td>35457770664</td>\n",
       "      <td>35457770664</td>\n",
       "      <td>59.0</td>\n",
       "      <td>835944</td>\n",
       "      <td>8</td>\n",
       "      <td>15000 San Pedro Ave</td>\n",
       "      <td>San Antonio</td>\n",
       "      <td>TX</td>\n",
       "      <td>78232</td>\n",
       "      <td>1</td>\n",
       "      <td>6</td>\n",
       "      <td>274.35</td>\n",
       "    </tr>\n",
       "    <tr>\n",
       "      <th>2014-07-18</th>\n",
       "      <td>Usda Produce</td>\n",
       "      <td>20</td>\n",
       "      <td>Plums Black</td>\n",
       "      <td>5.62</td>\n",
       "      <td>204040000000</td>\n",
       "      <td>204040000000</td>\n",
       "      <td>50.0</td>\n",
       "      <td>356634</td>\n",
       "      <td>6</td>\n",
       "      <td>1015 S WW White Rd</td>\n",
       "      <td>San Antonio</td>\n",
       "      <td>TX</td>\n",
       "      <td>78220</td>\n",
       "      <td>7</td>\n",
       "      <td>4</td>\n",
       "      <td>281.00</td>\n",
       "    </tr>\n",
       "  </tbody>\n",
       "</table>\n",
       "</div>"
      ],
      "text/plain": [
       "                  item_brand  item_id  \\\n",
       "sale_date                               \n",
       "2017-10-05  Sundown Naturals       38   \n",
       "2017-04-30        Honest Tea       11   \n",
       "2014-02-27          Munchies       39   \n",
       "2017-01-01        Mama Marys       46   \n",
       "2014-07-18      Usda Produce       20   \n",
       "\n",
       "                                                    item_name  item_price  \\\n",
       "sale_date                                                                   \n",
       "2017-10-05  Sundown Naturals Essential Electrolytes Tropic...        3.45   \n",
       "2017-04-30                         Honest Tea Peach White Tea        3.93   \n",
       "2014-02-27  Munchies Sandwich Crackers Cheddar Cheese On G...        9.02   \n",
       "2017-01-01                                        Pizza Sauce        4.65   \n",
       "2014-07-18                                        Plums Black        5.62   \n",
       "\n",
       "              item_upc12    item_upc14  sale_amount  sale_id  store_id  \\\n",
       "sale_date                                                                \n",
       "2017-10-05   30768540548   30768540548         84.0   677359         1   \n",
       "2017-04-30  657622604842  657622604842         86.0   191485         5   \n",
       "2014-02-27   28400029254   28400029254         36.0   710737        10   \n",
       "2017-01-01   35457770664   35457770664         59.0   835944         8   \n",
       "2014-07-18  204040000000  204040000000         50.0   356634         6   \n",
       "\n",
       "                     store_address   store_city store_state  store_zipcode  \\\n",
       "sale_date                                                                    \n",
       "2017-10-05  12125 Alamo Ranch Pkwy  San Antonio          TX          78253   \n",
       "2017-04-30         1520 Austin Hwy  San Antonio          TX          78218   \n",
       "2014-02-27    8503 NW Military Hwy  San Antonio          TX          78231   \n",
       "2017-01-01     15000 San Pedro Ave  San Antonio          TX          78232   \n",
       "2014-07-18      1015 S WW White Rd  San Antonio          TX          78220   \n",
       "\n",
       "            month  day_of_week  sales_total  \n",
       "sale_date                                    \n",
       "2017-10-05     10            3       289.80  \n",
       "2017-04-30      4            6       337.98  \n",
       "2014-02-27      2            3       324.72  \n",
       "2017-01-01      1            6       274.35  \n",
       "2014-07-18      7            4       281.00  "
      ]
     },
     "execution_count": 3,
     "metadata": {},
     "output_type": "execute_result"
    }
   ],
   "source": [
    "zach_df = prepare.prepare_zach_df(zach_df)\n",
    "zach_df.sample(5)"
   ]
  },
  {
   "cell_type": "code",
   "execution_count": 4,
   "id": "accepting-forty",
   "metadata": {},
   "outputs": [
    {
     "data": {
      "text/plain": [
       "Index(['item_brand', 'item_id', 'item_name', 'item_price', 'item_upc12',\n",
       "       'item_upc14', 'sale_amount', 'sale_id', 'store_id', 'store_address',\n",
       "       'store_city', 'store_state', 'store_zipcode', 'month', 'day_of_week',\n",
       "       'sales_total'],\n",
       "      dtype='object')"
      ]
     },
     "execution_count": 4,
     "metadata": {},
     "output_type": "execute_result"
    }
   ],
   "source": [
    "zach_df.columns"
   ]
  },
  {
   "cell_type": "markdown",
   "id": "inside-projection",
   "metadata": {},
   "source": [
    "* Using the OPS data acquired in the Acquire exercises opsd_germany_daily.csv, complete the following:"
   ]
  },
  {
   "cell_type": "code",
   "execution_count": 2,
   "id": "aware-czech",
   "metadata": {},
   "outputs": [],
   "source": [
    "germany_df = acquire.acquire_germany()"
   ]
  },
  {
   "cell_type": "markdown",
   "id": "urban-radar",
   "metadata": {},
   "source": [
    "1. Convert date column to datetime format."
   ]
  },
  {
   "cell_type": "code",
   "execution_count": 3,
   "id": "textile-filling",
   "metadata": {},
   "outputs": [
    {
     "data": {
      "text/plain": [
       "Index(['date', 'consumption', 'wind', 'solar', 'wind_and_solar'], dtype='object')"
      ]
     },
     "execution_count": 3,
     "metadata": {},
     "output_type": "execute_result"
    }
   ],
   "source": [
    "col_dict = {'Consumption' : 'consumption', 'Date' : 'date', 'Wind' : 'wind', 'Solar' : 'solar', 'Wind+Solar' : 'wind_and_solar'}\n",
    "germany_df.rename(columns=col_dict, inplace=True)\n",
    "germany_df.columns"
   ]
  },
  {
   "cell_type": "markdown",
   "id": "musical-mauritius",
   "metadata": {},
   "source": [
    "2. Plot the distribution of each of your variables."
   ]
  },
  {
   "cell_type": "code",
   "execution_count": 4,
   "id": "olive-classification",
   "metadata": {},
   "outputs": [
    {
     "data": {
      "image/png": "[encoded data removed]",
      "text/plain": [
       "<Figure size 432x288 with 4 Axes>"
      ]
     },
     "metadata": {
      "needs_background": "light"
     },
     "output_type": "display_data"
    }
   ],
   "source": [
    "germany_df.hist(germany_df.columns)\n",
    "plt.tight_layout()\n",
    "plt.show()"
   ]
  },
  {
   "cell_type": "markdown",
   "id": "increased-insurance",
   "metadata": {},
   "source": [
    "3. Set the index to be the datetime variable."
   ]
  },
  {
   "cell_type": "code",
   "execution_count": null,
   "id": "broken-destination",
   "metadata": {},
   "outputs": [],
   "source": [
    "germany_df.date = pd.to_datetime(germany_df.date)\n",
    "\n",
    "germany_df = germany_df.set_index('date').sort_index()"
   ]
  },
  {
   "cell_type": "markdown",
   "id": "pleased-surge",
   "metadata": {},
   "source": [
    "4. Add a month and a year column to your dataframe."
   ]
  },
  {
   "cell_type": "code",
   "execution_count": null,
   "id": "sexual-multimedia",
   "metadata": {},
   "outputs": [],
   "source": [
    "germany_df['month'] = germany_df.index.month\n",
    "germany_df['year'] = germany_df.index.year\n",
    "germany_df"
   ]
  },
  {
   "cell_type": "markdown",
   "id": "rural-opera",
   "metadata": {},
   "source": [
    "5. Fill any missing values."
   ]
  },
  {
   "cell_type": "code",
   "execution_count": null,
   "id": "worst-customer",
   "metadata": {},
   "outputs": [],
   "source": [
    "germany_df = germany_df.fillna(value=0)\n",
    "germany_df"
   ]
  },
  {
   "cell_type": "markdown",
   "id": "parliamentary-surveillance",
   "metadata": {},
   "source": [
    "6. Make sure all the work that you have done above is reproducible. That is, you should put the code above into separate functions and be able to re-run the functions and get the same results."
   ]
  },
  {
   "cell_type": "code",
   "execution_count": 5,
   "id": "immune-validation",
   "metadata": {},
   "outputs": [
    {
     "data": {
      "text/plain": [
       "(4383, 6)"
      ]
     },
     "execution_count": 5,
     "metadata": {},
     "output_type": "execute_result"
    }
   ],
   "source": [
    "germany_df = prepare.prepare_germany_df(germany_df)\n",
    "germany_df.shape"
   ]
  },
  {
   "cell_type": "code",
   "execution_count": 6,
   "id": "inner-screw",
   "metadata": {},
   "outputs": [
    {
     "data": {
      "text/plain": [
       "Index(['consumption', 'wind', 'solar', 'wind_and_solar', 'month', 'year'], dtype='object')"
      ]
     },
     "execution_count": 6,
     "metadata": {},
     "output_type": "execute_result"
    }
   ],
   "source": [
    "germany_df.columns"
   ]
  },
  {
   "cell_type": "code",
   "execution_count": null,
   "id": "intense-worker",
   "metadata": {},
   "outputs": [],
   "source": []
  }
 ],
 "metadata": {
  "kernelspec": {
   "display_name": "Python 3",
   "language": "python",
   "name": "python3"
  },
  "language_info": {
   "codemirror_mode": {
    "name": "ipython",
    "version": 3
   },
   "file_extension": ".py",
   "mimetype": "text/x-python",
   "name": "python",
   "nbconvert_exporter": "python",
   "pygments_lexer": "ipython3",
   "version": "3.8.5"
  }
 },
 "nbformat": 4,
 "nbformat_minor": 5
}
